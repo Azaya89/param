{
 "cells": [
  {
   "cell_type": "code",
   "execution_count": null,
   "metadata": {},
   "outputs": [],
   "source": [
    "%%writefile test.py\n",
    "\n",
    "import argparse\n",
    "\n",
    "import param\n",
    "from param.cmd import Command,parser_setup_thing\n",
    "from param import concrete_descendents"
   ]
  },
  {
   "cell_type": "code",
   "execution_count": null,
   "metadata": {},
   "outputs": [],
   "source": [
    "%%writefile -a test.py\n",
    "\n",
    "class Some_Fn(Command):\n",
    "    \"\"\"some docstring\"\"\"\n",
    "\n",
    "    some_option = param.Number(default=10, bounds=(0,20),doc=\"number\")\n",
    "\n",
    "    another_option = param.ObjectSelector(default=\"no\",objects=[\"no\",\"yes\",\"maybe\"])\n",
    "    \n",
    "    def __call__(self,**params):\n",
    "        p = param.ParamOverrides(self,params)\n",
    "        print(\"Some_Fn.__call__\",p)"
   ]
  },
  {
   "cell_type": "code",
   "execution_count": null,
   "metadata": {},
   "outputs": [],
   "source": [
    "%%writefile -a test.py\n",
    "\n",
    "class Another_Thing(Command):\n",
    "    \"\"\"more docstring\"\"\"\n",
    "\n",
    "    some_option3 = param.Number(default=10, bounds=(0,20),doc=\"number\")\n",
    "\n",
    "    def __call__(self,**params):\n",
    "        p = param.ParamOverrides(self,params)\n",
    "        print(\"Another_Thing.__call__\",p)"
   ]
  },
  {
   "cell_type": "code",
   "execution_count": null,
   "metadata": {},
   "outputs": [],
   "source": [
    "%%writefile -a test.py\n",
    "\n",
    "def main(args=None):\n",
    "    parser = argparse.ArgumentParser(description=\"something commands\")\n",
    "    subparsers = parser.add_subparsers(title='available commands')\n",
    "\n",
    "    for fn in concrete_descendents(Command).values():\n",
    "        parser_setup_thing(fn,subparsers)\n",
    "\n",
    "    args = parser.parse_args()    \n",
    "    return args.func(args) if hasattr(args,'func') else parser.error(\"must supply command to run\") \n",
    "    \n",
    "if __name__ == \"__main__\":\n",
    "    main()"
   ]
  },
  {
   "cell_type": "code",
   "execution_count": null,
   "metadata": {},
   "outputs": [],
   "source": [
    "! python test.py --help"
   ]
  },
  {
   "cell_type": "code",
   "execution_count": null,
   "metadata": {},
   "outputs": [],
   "source": [
    "! python test.py some-fn --some-option=10 --another-option=yes"
   ]
  },
  {
   "cell_type": "code",
   "execution_count": null,
   "metadata": {},
   "outputs": [],
   "source": [
    "! python test.py another-thing"
   ]
  },
  {
   "cell_type": "code",
   "execution_count": null,
   "metadata": {},
   "outputs": [],
   "source": []
  }
 ],
 "metadata": {
  "kernelspec": {
   "display_name": "Python 3",
   "language": "python",
   "name": "python3"
  },
  "language_info": {
   "codemirror_mode": {
    "name": "ipython",
    "version": 3
   },
   "file_extension": ".py",
   "mimetype": "text/x-python",
   "name": "python",
   "nbconvert_exporter": "python",
   "pygments_lexer": "ipython3",
   "version": "3.6.6"
  }
 },
 "nbformat": 4,
 "nbformat_minor": 2
}
